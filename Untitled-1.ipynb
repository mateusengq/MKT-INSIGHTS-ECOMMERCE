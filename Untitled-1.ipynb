{
 "cells": [
  {
   "cell_type": "code",
   "execution_count": 1,
   "metadata": {},
   "outputs": [],
   "source": [
    "import numpy as np\n",
    "import scipy.stats as st"
   ]
  },
  {
   "cell_type": "code",
   "execution_count": 2,
   "metadata": {},
   "outputs": [],
   "source": [
    "erro_padrao = 1.5/(20**.5)"
   ]
  },
  {
   "cell_type": "code",
   "execution_count": 15,
   "metadata": {},
   "outputs": [],
   "source": [
    "# Define parameters\n",
    "mean = 22.9\n",
    "sample_size = 20\n",
    "standard_error = 1.5 / (sample_size ** 0.5)\n",
    "confidence_level = 0.95\n",
    "\n",
    "# Calculate degrees of freedom\n",
    "degrees_freedom = sample_size - 1\n",
    "\n",
    "# Calculate the confidence interval\n",
    "confidence_interval = st.t.interval(confidence=confidence_level, df=degrees_freedom, loc=mean, scale=standard_error)"
   ]
  },
  {
   "cell_type": "code",
   "execution_count": 16,
   "metadata": {},
   "outputs": [
    {
     "data": {
      "text/plain": [
       "(22.197978390370135, 23.602021609629862)"
      ]
     },
     "execution_count": 16,
     "metadata": {},
     "output_type": "execute_result"
    }
   ],
   "source": [
    "confidence_interval"
   ]
  },
  {
   "cell_type": "code",
   "execution_count": 14,
   "metadata": {},
   "outputs": [
    {
     "data": {
      "text/plain": [
       "(22.320031223696933, 23.479968776303064)"
      ]
     },
     "execution_count": 14,
     "metadata": {},
     "output_type": "execute_result"
    }
   ],
   "source": [
    "import scipy.stats as st\n",
    "\n",
    "# Define parameters\n",
    "mean = 22.9\n",
    "sample_size = 20\n",
    "standard_error = 1.5 / (sample_size ** 0.5)\n",
    "confidence_level = 0.90\n",
    "\n",
    "# Calculate degrees of freedom\n",
    "degrees_freedom = sample_size - 1\n",
    "\n",
    "# Calculate the confidence interval\n",
    "confidence_interval = st.t.interval(confidence=confidence_level, df=degrees_freedom, loc=mean, scale=standard_error)\n",
    "\n",
    "confidence_interval\n"
   ]
  },
  {
   "cell_type": "code",
   "execution_count": 24,
   "metadata": {},
   "outputs": [
    {
     "name": "stdout",
     "output_type": "stream",
     "text": [
      "(22.320031223696933, 23.479968776303064)\n"
     ]
    }
   ],
   "source": [
    "erro_padrao = 1.5 / (20 ** 0.5)\n",
    "intervalo_de_confianca = st.t.interval(confidence=.90, df = 19, loc = 22.9, scale = erro_padrao)\n",
    "print(intervalo_de_confianca)"
   ]
  },
  {
   "cell_type": "code",
   "execution_count": null,
   "metadata": {},
   "outputs": [],
   "source": []
  }
 ],
 "metadata": {
  "kernelspec": {
   "display_name": "Python 3",
   "language": "python",
   "name": "python3"
  },
  "language_info": {
   "codemirror_mode": {
    "name": "ipython",
    "version": 3
   },
   "file_extension": ".py",
   "mimetype": "text/x-python",
   "name": "python",
   "nbconvert_exporter": "python",
   "pygments_lexer": "ipython3",
   "version": "3.12.2"
  }
 },
 "nbformat": 4,
 "nbformat_minor": 2
}
