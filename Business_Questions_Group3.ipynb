{
 "cells": [
  {
   "cell_type": "code",
   "execution_count": 1,
   "metadata": {},
   "outputs": [
    {
     "name": "stdout",
     "output_type": "stream",
     "text": [
      "Last updated: 2024-07-18T16:19:23.221986-04:00\n",
      "\n",
      "Python implementation: CPython\n",
      "Python version       : 3.12.2\n",
      "IPython version      : 8.22.2\n",
      "\n",
      "Compiler    : MSC v.1937 64 bit (AMD64)\n",
      "OS          : Windows\n",
      "Release     : 11\n",
      "Machine     : AMD64\n",
      "Processor   : Intel64 Family 6 Model 167 Stepping 1, GenuineIntel\n",
      "CPU cores   : 16\n",
      "Architecture: 64bit\n",
      "\n"
     ]
    }
   ],
   "source": [
    "%config InlineBackend.figure_format = 'retina'\n",
    "%load_ext watermark\n",
    "%watermark"
   ]
  },
  {
   "cell_type": "code",
   "execution_count": 2,
   "metadata": {},
   "outputs": [],
   "source": [
    "# Libraries \n",
    "\n",
    "import pandas as pd\n",
    "import numpy as np\n",
    "import matplotlib.pyplot as plt\n",
    "import seaborn as sns\n",
    "\n",
    "import scipy.stats as stats\n",
    "import statsmodels.api as sm\n",
    "\n",
    "import os\n",
    "\n",
    "from func_utils import *\n",
    "\n",
    "# Display and graph options\n",
    "\n",
    "custom_params = {\"axes.spines.right\": False, \"axes.spines.top\": False}\n",
    "sns.set_theme(style=\"ticks\", rc=custom_params)\n",
    "\n",
    "# Customize the font and title size\n",
    "custom_params = {\n",
    "    \"axes.titlesize\": 14,\n",
    "    \"axes.labelsize\": 12,\n",
    "    \"xtick.labelsize\": 10,\n",
    "    \"ytick.labelsize\": 10,\n",
    "    \"font.family\": \"Arial\"\n",
    "}\n",
    "sns.set_context(\"notebook\", rc=custom_params)\n",
    "\n",
    "# Set a color palette\n",
    "sns.set_palette(\"Set2\") \n",
    "\n",
    "# Set global option to display numbers in plain format\n",
    "pd.set_option('display.float_format', '{:.2f}'.format)\n",
    "\n",
    "# Filter warnings and seeds\n",
    "import warnings\n",
    "import random\n",
    "\n",
    "warnings.filterwarnings('ignore')\n",
    "random.seed(1234)"
   ]
  },
  {
   "cell_type": "code",
   "execution_count": 55,
   "metadata": {},
   "outputs": [],
   "source": [
    "# Data \n",
    "\n",
    "data_tmp = pd.read_csv('DATA/base_main.csv')"
   ]
  },
  {
   "cell_type": "code",
   "execution_count": 56,
   "metadata": {},
   "outputs": [
    {
     "data": {
      "text/html": [
       "<div>\n",
       "<style scoped>\n",
       "    .dataframe tbody tr th:only-of-type {\n",
       "        vertical-align: middle;\n",
       "    }\n",
       "\n",
       "    .dataframe tbody tr th {\n",
       "        vertical-align: top;\n",
       "    }\n",
       "\n",
       "    .dataframe thead th {\n",
       "        text-align: right;\n",
       "    }\n",
       "</style>\n",
       "<table border=\"1\" class=\"dataframe\">\n",
       "  <thead>\n",
       "    <tr style=\"text-align: right;\">\n",
       "      <th></th>\n",
       "      <th>CustomerID</th>\n",
       "      <th>Transaction_ID</th>\n",
       "      <th>Transaction_Date</th>\n",
       "      <th>Product_SKU</th>\n",
       "      <th>Product_Description</th>\n",
       "      <th>Product_Category</th>\n",
       "      <th>Quantity</th>\n",
       "      <th>Avg_Price</th>\n",
       "      <th>Delivery_Charges</th>\n",
       "      <th>Coupon_Status</th>\n",
       "      <th>...</th>\n",
       "      <th>Transaction_Date2</th>\n",
       "      <th>Month</th>\n",
       "      <th>Coupon_Code</th>\n",
       "      <th>Discount_pct</th>\n",
       "      <th>Discount_pct_ajus</th>\n",
       "      <th>Invoice</th>\n",
       "      <th>Gender</th>\n",
       "      <th>Location</th>\n",
       "      <th>Tenure_Months</th>\n",
       "      <th>month</th>\n",
       "    </tr>\n",
       "  </thead>\n",
       "  <tbody>\n",
       "    <tr>\n",
       "      <th>0</th>\n",
       "      <td>17850</td>\n",
       "      <td>16679</td>\n",
       "      <td>2019-01-01</td>\n",
       "      <td>GGOENEBJ079499</td>\n",
       "      <td>Nest Learning Thermostat 3rd Gen-USA - Stainle...</td>\n",
       "      <td>Nest-USA</td>\n",
       "      <td>1</td>\n",
       "      <td>153.71</td>\n",
       "      <td>6.50</td>\n",
       "      <td>Used</td>\n",
       "      <td>...</td>\n",
       "      <td>2019-01-01</td>\n",
       "      <td>Jan</td>\n",
       "      <td>ELEC10</td>\n",
       "      <td>10.00</td>\n",
       "      <td>10.00</td>\n",
       "      <td>194.37</td>\n",
       "      <td>M</td>\n",
       "      <td>Chicago</td>\n",
       "      <td>12</td>\n",
       "      <td>1</td>\n",
       "    </tr>\n",
       "    <tr>\n",
       "      <th>1</th>\n",
       "      <td>17850</td>\n",
       "      <td>16680</td>\n",
       "      <td>2019-01-01</td>\n",
       "      <td>GGOENEBJ079499</td>\n",
       "      <td>Nest Learning Thermostat 3rd Gen-USA - Stainle...</td>\n",
       "      <td>Nest-USA</td>\n",
       "      <td>1</td>\n",
       "      <td>153.71</td>\n",
       "      <td>6.50</td>\n",
       "      <td>Used</td>\n",
       "      <td>...</td>\n",
       "      <td>2019-01-01</td>\n",
       "      <td>Jan</td>\n",
       "      <td>ELEC10</td>\n",
       "      <td>10.00</td>\n",
       "      <td>10.00</td>\n",
       "      <td>194.37</td>\n",
       "      <td>M</td>\n",
       "      <td>Chicago</td>\n",
       "      <td>12</td>\n",
       "      <td>1</td>\n",
       "    </tr>\n",
       "    <tr>\n",
       "      <th>2</th>\n",
       "      <td>17850</td>\n",
       "      <td>16681</td>\n",
       "      <td>2019-01-01</td>\n",
       "      <td>GGOEGFKQ020399</td>\n",
       "      <td>Google Laptop and Cell Phone Stickers</td>\n",
       "      <td>Office</td>\n",
       "      <td>1</td>\n",
       "      <td>2.05</td>\n",
       "      <td>6.50</td>\n",
       "      <td>Used</td>\n",
       "      <td>...</td>\n",
       "      <td>2019-01-01</td>\n",
       "      <td>Jan</td>\n",
       "      <td>OFF10</td>\n",
       "      <td>10.00</td>\n",
       "      <td>10.00</td>\n",
       "      <td>9.01</td>\n",
       "      <td>M</td>\n",
       "      <td>Chicago</td>\n",
       "      <td>12</td>\n",
       "      <td>1</td>\n",
       "    </tr>\n",
       "    <tr>\n",
       "      <th>3</th>\n",
       "      <td>17850</td>\n",
       "      <td>16682</td>\n",
       "      <td>2019-01-01</td>\n",
       "      <td>GGOEGAAB010516</td>\n",
       "      <td>Google Men's 100% Cotton Short Sleeve Hero Tee...</td>\n",
       "      <td>Apparel</td>\n",
       "      <td>5</td>\n",
       "      <td>17.53</td>\n",
       "      <td>6.50</td>\n",
       "      <td>Not Used</td>\n",
       "      <td>...</td>\n",
       "      <td>2019-01-01</td>\n",
       "      <td>Jan</td>\n",
       "      <td>SALE10</td>\n",
       "      <td>10.00</td>\n",
       "      <td>0.00</td>\n",
       "      <td>109.93</td>\n",
       "      <td>M</td>\n",
       "      <td>Chicago</td>\n",
       "      <td>12</td>\n",
       "      <td>1</td>\n",
       "    </tr>\n",
       "    <tr>\n",
       "      <th>4</th>\n",
       "      <td>17850</td>\n",
       "      <td>16682</td>\n",
       "      <td>2019-01-01</td>\n",
       "      <td>GGOEGBJL013999</td>\n",
       "      <td>Google Canvas Tote Natural/Navy</td>\n",
       "      <td>Bags</td>\n",
       "      <td>1</td>\n",
       "      <td>16.50</td>\n",
       "      <td>6.50</td>\n",
       "      <td>Used</td>\n",
       "      <td>...</td>\n",
       "      <td>2019-01-01</td>\n",
       "      <td>Jan</td>\n",
       "      <td>AIO10</td>\n",
       "      <td>10.00</td>\n",
       "      <td>10.00</td>\n",
       "      <td>28.13</td>\n",
       "      <td>M</td>\n",
       "      <td>Chicago</td>\n",
       "      <td>12</td>\n",
       "      <td>1</td>\n",
       "    </tr>\n",
       "  </tbody>\n",
       "</table>\n",
       "<p>5 rows × 21 columns</p>\n",
       "</div>"
      ],
      "text/plain": [
       "   CustomerID  Transaction_ID Transaction_Date     Product_SKU  \\\n",
       "0       17850           16679       2019-01-01  GGOENEBJ079499   \n",
       "1       17850           16680       2019-01-01  GGOENEBJ079499   \n",
       "2       17850           16681       2019-01-01  GGOEGFKQ020399   \n",
       "3       17850           16682       2019-01-01  GGOEGAAB010516   \n",
       "4       17850           16682       2019-01-01  GGOEGBJL013999   \n",
       "\n",
       "                                 Product_Description Product_Category  \\\n",
       "0  Nest Learning Thermostat 3rd Gen-USA - Stainle...         Nest-USA   \n",
       "1  Nest Learning Thermostat 3rd Gen-USA - Stainle...         Nest-USA   \n",
       "2              Google Laptop and Cell Phone Stickers           Office   \n",
       "3  Google Men's 100% Cotton Short Sleeve Hero Tee...          Apparel   \n",
       "4                    Google Canvas Tote Natural/Navy             Bags   \n",
       "\n",
       "   Quantity  Avg_Price  Delivery_Charges Coupon_Status  ...  \\\n",
       "0         1     153.71              6.50          Used  ...   \n",
       "1         1     153.71              6.50          Used  ...   \n",
       "2         1       2.05              6.50          Used  ...   \n",
       "3         5      17.53              6.50      Not Used  ...   \n",
       "4         1      16.50              6.50          Used  ...   \n",
       "\n",
       "   Transaction_Date2 Month Coupon_Code Discount_pct  Discount_pct_ajus  \\\n",
       "0         2019-01-01   Jan      ELEC10        10.00              10.00   \n",
       "1         2019-01-01   Jan      ELEC10        10.00              10.00   \n",
       "2         2019-01-01   Jan       OFF10        10.00              10.00   \n",
       "3         2019-01-01   Jan      SALE10        10.00               0.00   \n",
       "4         2019-01-01   Jan       AIO10        10.00              10.00   \n",
       "\n",
       "   Invoice  Gender Location Tenure_Months  month  \n",
       "0   194.37       M  Chicago            12      1  \n",
       "1   194.37       M  Chicago            12      1  \n",
       "2     9.01       M  Chicago            12      1  \n",
       "3   109.93       M  Chicago            12      1  \n",
       "4    28.13       M  Chicago            12      1  \n",
       "\n",
       "[5 rows x 21 columns]"
      ]
     },
     "execution_count": 56,
     "metadata": {},
     "output_type": "execute_result"
    }
   ],
   "source": [
    "data_tmp.head()"
   ]
  },
  {
   "cell_type": "markdown",
   "metadata": {},
   "source": [
    "# 3. Performing Customer Segmentation\n",
    "### 3.1. Heuristic (Value based, RFM) – Divide the customers into Premium, Gold, Silver, Standard customers and define strategy on the same."
   ]
  },
  {
   "cell_type": "markdown",
   "metadata": {},
   "source": [
    "RFM analysis is a data driven customer behavior segmentation technique. RFM stands for recency, frequency, and monetary value.\n",
    "The  idea is to segment customers based on when their last purchase was, how often they’ve purchased in the past, and how much they’ve spent overall.\n",
    "\n",
    "\n",
    "To calculate the RFM score, I will follow these steps:\n",
    "\n",
    "1. Assign scores: For each of the RFM factors, assign scores on a scale from 1 to 5, where 5 is the highest value (most recent, most frequent, highest monetary).\n",
    "2. Score Recency: Customers who purchased most recently get the highest scores.\n",
    "3. Score Frequency: Customers who purchased most frequently get the highest scores.\n",
    "4. Score Monetary: Customers who spent the most get the highest scores.\n",
    "\n",
    "Combine the scores: Concatenate the individual scores to get a three-digit number representing the RFM score. For example, if a customer has Recency = 5, Frequency = 3, and Monetary = 4, their RFM score would be 534.\n",
    "\n",
    "*Important* to notice that are other mehtods and aggregations to the final score. For example, we can assign different weights based on the importance of each variable."
   ]
  },
  {
   "cell_type": "code",
   "execution_count": 70,
   "metadata": {},
   "outputs": [],
   "source": [
    "# Recency\n",
    "data_tmp['Transaction_Date'] = pd.to_datetime(data_tmp['Transaction_Date'])\n",
    "\n",
    "# Calculating a reference date (last purchase)\n",
    "data_ref = data_tmp['Transaction_Date'].max()\n",
    "\n",
    "# Grouping and calculating the recency\n",
    "recency_tmp = data_tmp.groupby('CustomerID')['Transaction_Date'].agg('max').reset_index(name = 'last_purchase')\n",
    "recency_tmp['recency_days'] = (data_ref - recency_tmp['last_purchase']).dt.days"
   ]
  },
  {
   "cell_type": "code",
   "execution_count": 58,
   "metadata": {},
   "outputs": [
    {
     "data": {
      "image/png": "[encoded data removed]",
      "text/plain": [
       "<Figure size 1200x600 with 2 Axes>"
      ]
     },
     "metadata": {},
     "output_type": "display_data"
    }
   ],
   "source": [
    "# Create subplots\n",
    "fig, axes = plt.subplots(1, 2, figsize=(12, 6))\n",
    "\n",
    "# Histogram\n",
    "sns.histplot(recency_tmp['recency_days'], ax=axes[0])\n",
    "axes[0].set_title('Histogram of Recency Days')\n",
    "axes[0].set_xlabel('Days')  # Rótulo do eixo X\n",
    "axes[0].set_ylabel('Count')  # Rótulo do eixo Y\n",
    "\n",
    "# Boxplot\n",
    "sns.boxplot(x=recency_tmp['recency_days'], ax=axes[1])\n",
    "axes[1].set_title('Boxplot of Recency Days')\n",
    "axes[1].set_xlabel('Days')  # Rótulo do eixo X\n",
    "\n",
    "# Adjust layout\n",
    "plt.tight_layout()\n",
    "plt.show()"
   ]
  },
  {
   "cell_type": "code",
   "execution_count": 92,
   "metadata": {},
   "outputs": [],
   "source": [
    "# Assign the labels for recency\n",
    "\n",
    "recency_tmp['recency_score'] = pd.qcut(recency_tmp['recency_days'], 5, labels = [5,4,3,2,1])\n",
    "recency_tmp['recency_score'] = recency_tmp['recency_score'].astype(int)"
   ]
  },
  {
   "cell_type": "code",
   "execution_count": 83,
   "metadata": {},
   "outputs": [
    {
     "data": {
      "text/plain": [
       "count   1468.00\n",
       "mean      36.05\n",
       "std       50.89\n",
       "min        1.00\n",
       "25%       10.00\n",
       "50%       21.00\n",
       "75%       46.00\n",
       "max      695.00\n",
       "Name: frequency, dtype: float64"
      ]
     },
     "execution_count": 83,
     "metadata": {},
     "output_type": "execute_result"
    }
   ],
   "source": [
    "# Frequency\n",
    "\n",
    "frequency = data_tmp['CustomerID'].value_counts().reset_index(name = 'frequency')\n",
    "frequency['frequency'].describe()"
   ]
  },
  {
   "cell_type": "code",
   "execution_count": 72,
   "metadata": {},
   "outputs": [
    {
     "data": {
      "image/png": "[encoded data removed]",
      "text/plain": [
       "<Figure size 1200x600 with 2 Axes>"
      ]
     },
     "metadata": {},
     "output_type": "display_data"
    }
   ],
   "source": [
    "# Create subplots\n",
    "fig, axes = plt.subplots(1, 2, figsize=(12, 6))\n",
    "\n",
    "frequency_log = np.log(frequency['frequency'])\n",
    "\n",
    "# Histogram\n",
    "sns.boxplot(x = frequency['frequency'], ax=axes[0])\n",
    "axes[0].set_title('Boxplot of Frequency Days')\n",
    "axes[0].set_xlabel('Days')  \n",
    "axes[0].set_ylabel('Count')  \n",
    "\n",
    "# Boxplot\n",
    "sns.boxplot(x=frequency_log, ax=axes[1])\n",
    "axes[1].set_title('Boxplot of Frequency Days | LOG')\n",
    "axes[1].set_xlabel('LOG(Days)')  \n",
    "\n",
    "\n",
    "plt.tight_layout()\n",
    "plt.show()"
   ]
  },
  {
   "cell_type": "code",
   "execution_count": 85,
   "metadata": {},
   "outputs": [],
   "source": [
    "# Assign the labels for frequency\n",
    "\n",
    "frequency['frequency_score'] = pd.qcut(frequency['frequency'], 5, labels=[1, 2, 3, 4, 5], duplicates='drop').astype(int)"
   ]
  },
  {
   "cell_type": "code",
   "execution_count": 86,
   "metadata": {},
   "outputs": [],
   "source": [
    "# Monetary\n",
    "\n",
    "monetary = data_tmp.groupby(['CustomerID'])['Invoice'].agg('sum').reset_index()"
   ]
  },
  {
   "cell_type": "code",
   "execution_count": 87,
   "metadata": {},
   "outputs": [
    {
     "data": {
      "image/png": "[encoded data removed]",
      "text/plain": [
       "<Figure size 1200x600 with 2 Axes>"
      ]
     },
     "metadata": {},
     "output_type": "display_data"
    }
   ],
   "source": [
    "# Create subplots\n",
    "fig, axes = plt.subplots(1, 2, figsize=(12, 6))\n",
    "\n",
    "# Histogram\n",
    "sns.histplot(monetary['Invoice'], ax=axes[0])\n",
    "axes[0].set_title('Histogram of Invoice by Customer')\n",
    "axes[0].set_xlabel('Days')  \n",
    "axes[0].set_ylabel('Count') \n",
    "\n",
    "# Boxplot\n",
    "sns.boxplot(x=monetary['Invoice'], ax=axes[1])\n",
    "axes[1].set_title('Boxplot of Invoice by Customer')\n",
    "axes[1].set_xlabel('Days')  \n",
    "\n",
    "# Adjust layout\n",
    "plt.tight_layout()\n",
    "plt.show()"
   ]
  },
  {
   "cell_type": "code",
   "execution_count": 89,
   "metadata": {},
   "outputs": [],
   "source": [
    "# Assign labels for monetary\n",
    "\n",
    "monetary['invoice_score'] = pd.qcut(monetary['Invoice'], 5, labels=[1, 2, 3, 4, 5], duplicates='drop').astype(int)\n"
   ]
  },
  {
   "cell_type": "code",
   "execution_count": 94,
   "metadata": {},
   "outputs": [
    {
     "data": {
      "text/html": [
       "<div>\n",
       "<style scoped>\n",
       "    .dataframe tbody tr th:only-of-type {\n",
       "        vertical-align: middle;\n",
       "    }\n",
       "\n",
       "    .dataframe tbody tr th {\n",
       "        vertical-align: top;\n",
       "    }\n",
       "\n",
       "    .dataframe thead th {\n",
       "        text-align: right;\n",
       "    }\n",
       "</style>\n",
       "<table border=\"1\" class=\"dataframe\">\n",
       "  <thead>\n",
       "    <tr style=\"text-align: right;\">\n",
       "      <th></th>\n",
       "      <th>CustomerID</th>\n",
       "      <th>Invoice</th>\n",
       "      <th>invoice_score</th>\n",
       "      <th>frequency</th>\n",
       "      <th>frequency_score</th>\n",
       "      <th>last_purchase</th>\n",
       "      <th>recency_days</th>\n",
       "      <th>recency_score</th>\n",
       "    </tr>\n",
       "  </thead>\n",
       "  <tbody>\n",
       "    <tr>\n",
       "      <th>0</th>\n",
       "      <td>12346</td>\n",
       "      <td>200.98</td>\n",
       "      <td>1</td>\n",
       "      <td>2</td>\n",
       "      <td>1</td>\n",
       "      <td>2019-09-15</td>\n",
       "      <td>107</td>\n",
       "      <td>3</td>\n",
       "    </tr>\n",
       "    <tr>\n",
       "      <th>1</th>\n",
       "      <td>12347</td>\n",
       "      <td>17772.35</td>\n",
       "      <td>5</td>\n",
       "      <td>60</td>\n",
       "      <td>5</td>\n",
       "      <td>2019-11-02</td>\n",
       "      <td>59</td>\n",
       "      <td>4</td>\n",
       "    </tr>\n",
       "    <tr>\n",
       "      <th>2</th>\n",
       "      <td>12348</td>\n",
       "      <td>2046.76</td>\n",
       "      <td>3</td>\n",
       "      <td>23</td>\n",
       "      <td>3</td>\n",
       "      <td>2019-10-19</td>\n",
       "      <td>73</td>\n",
       "      <td>4</td>\n",
       "    </tr>\n",
       "  </tbody>\n",
       "</table>\n",
       "</div>"
      ],
      "text/plain": [
       "   CustomerID  Invoice  invoice_score  frequency  frequency_score  \\\n",
       "0       12346   200.98              1          2                1   \n",
       "1       12347 17772.35              5         60                5   \n",
       "2       12348  2046.76              3         23                3   \n",
       "\n",
       "  last_purchase  recency_days  recency_score  \n",
       "0    2019-09-15           107              3  \n",
       "1    2019-11-02            59              4  \n",
       "2    2019-10-19            73              4  "
      ]
     },
     "execution_count": 94,
     "metadata": {},
     "output_type": "execute_result"
    }
   ],
   "source": [
    "# Combining the bases\n",
    "\n",
    "data_rfm_tmp = monetary.merge(frequency, on='CustomerID', how='left').merge(recency_tmp, on='CustomerID', how='left')\n",
    "data_rfm_tmp.head(3)"
   ]
  },
  {
   "cell_type": "markdown",
   "metadata": {},
   "source": []
  }
 ],
 "metadata": {
  "kernelspec": {
   "display_name": "Python 3",
   "language": "python",
   "name": "python3"
  },
  "language_info": {
   "codemirror_mode": {
    "name": "ipython",
    "version": 3
   },
   "file_extension": ".py",
   "mimetype": "text/x-python",
   "name": "python",
   "nbconvert_exporter": "python",
   "pygments_lexer": "ipython3",
   "version": "3.12.2"
  }
 },
 "nbformat": 4,
 "nbformat_minor": 2
}
